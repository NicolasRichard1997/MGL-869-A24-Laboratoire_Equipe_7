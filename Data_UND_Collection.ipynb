{
 "cells": [
  {
   "cell_type": "markdown",
   "metadata": {},
   "source": [
    "# UND Data Collection\n",
    "We can collect UND data. We'll use the below `run_command` fonction to run Understand via the CLI to speed up the process"
   ]
  },
  {
   "cell_type": "code",
   "execution_count": null,
   "metadata": {
    "vscode": {
     "languageId": "plaintext"
    }
   },
   "outputs": [],
   "source": [
    "import pandas as pd\n",
    "import os\n",
    "import re\n",
    "from pathlib import Path\n",
    "\n",
    "project_repo = \"/home/nicolas-richard/Desktop/.Apache_Hive_Bug_Prediction_ML_Model/\"\n",
    "hive_repo = \"/home/nicolas-richard/Desktop/.Apache_Hive/\""
   ]
  },
  {
   "cell_type": "code",
   "execution_count": null,
   "metadata": {
    "vscode": {
     "languageId": "plaintext"
    }
   },
   "outputs": [],
   "source": [
    "version_file = project_repo.joinpath(\"Hive_Last_Commits.csv\")\n",
    "und_base = project_repo.joinpath(\"UND_projects\")\n",
    "settings_file_path = project_repo.joinpath(\"settings.xml\")\n",
    "hive_data = project_repo.joinpath('UND_hive_data')\n",
    "\n",
    "os.chdir(project_repo)\n",
    "\n",
    "def run_command(command):\n",
    "    try:\n",
    "        subprocess.run(command, shell=True, check=True)\n",
    "    except subprocess.CalledProcessError as e:\n",
    "        print(f\"Command failed: {e.cmd}\")\n",
    "\n",
    "run_command(f'mkdir -p -m 777 {und_base}')\n",
    "run_command(f' mkdir -p -m 777 {hive_data}')\n",
    "\n",
    "os.chdir(hive_repo)\n",
    "\n",
    "def process_versions():\n",
    "    with open(version_file, \"r\") as file:\n",
    "        next(file)\n",
    "        for line in file:\n",
    "            if line.strip():\n",
    "                version, commit_id = line.split(\",\")[0].strip(), line.split(\",\")[1].strip()              \n",
    "\n",
    "                run_command(f\"cd {hive_repo} && git stash && git checkout {commit_id}\")\n",
    "                print(f\"Successfully checked out {commit_id} before {version}\")\n",
    "\n",
    "                \n",
    "                und_project_path = f\"{und_base}/UND_{version}.und\"\n",
    "\n",
    "                run_command(f\"und create -languages java C++ {und_project_path}\")\n",
    "\n",
    "                destination_settings_file = f\"{und_project_path}/settings.xml\"\n",
    "\n",
    "                if os.path.exists(destination_settings_file):\n",
    "                    print(f\"Removing existing settings.xml at {destination_settings_file}\")\n",
    "                    os.remove(destination_settings_file)\n",
    "\n",
    "                run_command(f\"cp {settings_file_path} {und_project_path}\")\n",
    "\n",
    "                # Redudancy here is to override SciTools Understand's automatic generation of files\n",
    "                run_command(f\"cp {settings_file_path} {destination_settings_file}\")\n",
    "                run_command(f\"und settings -metricsOutputFile {hive_data.joinpath(f'UND_{version}.csv')} {und_project_path}\")\n",
    "\n",
    "                run_command(f\"und add {hive_repo} {und_project_path}\")\n",
    "                run_command(f\"cp {settings_file_path} {destination_settings_file}\")\n",
    "                run_command(f\"und settings -metricsOutputFile {hive_data.joinpath(f'UND_{version}.csv')} {und_project_path}\")\n",
    "\n",
    "                run_command(f\"und analyze --threads 6 {und_project_path}\")\n",
    "                run_command(f\"cp {settings_file_path} {destination_settings_file}\")\n",
    "                run_command(f\"und settings -metricsOutputFile {hive_data.joinpath(f'UND_{version}.csv')} {und_project_path}\")\n",
    "\n",
    "                run_command(f\"und metrics {und_project_path}\")\n",
    "                \n",
    "if __name__ == \"__main__\":\n",
    "    process_versions()"
   ]
  }
 ],
 "metadata": {
  "language_info": {
   "name": "python"
  }
 },
 "nbformat": 4,
 "nbformat_minor": 2
}
